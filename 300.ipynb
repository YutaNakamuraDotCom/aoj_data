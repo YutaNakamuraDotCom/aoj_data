{
  "nbformat": 4,
  "nbformat_minor": 0,
  "metadata": {
    "colab": {
      "name": "300.ipynb",
      "provenance": [],
      "collapsed_sections": [],
      "authorship_tag": "ABX9TyMecc3YF7EqeNOgOFHhIUES",
      "include_colab_link": true
    },
    "kernelspec": {
      "name": "python3",
      "display_name": "Python 3"
    }
  },
  "cells": [
    {
      "cell_type": "markdown",
      "metadata": {
        "id": "view-in-github",
        "colab_type": "text"
      },
      "source": [
        "<a href=\"https://colab.research.google.com/github/ynkmr0/aoj_data/blob/master/300.ipynb\" target=\"_parent\"><img src=\"https://colab.research.google.com/assets/colab-badge.svg\" alt=\"Open In Colab\"/></a>"
      ]
    },
    {
      "cell_type": "markdown",
      "metadata": {
        "id": "xKg0u85tB-Ti",
        "colab_type": "text"
      },
      "source": [
        "24. ファイル参照の抽出\n",
        "\n",
        "記事から参照されているメディアファイルをすべて抜き出せ．\n"
      ]
    },
    {
      "cell_type": "code",
      "metadata": {
        "id": "KaRCBsDSy2n9",
        "colab_type": "code",
        "colab": {}
      },
      "source": [
        "from google.colab import files\n",
        "uploaded = files.upload()"
      ],
      "execution_count": 0,
      "outputs": []
    },
    {
      "cell_type": "code",
      "metadata": {
        "id": "MxcXCFr7boQl",
        "colab_type": "code",
        "colab": {}
      },
      "source": [
        "import gzip\n",
        "import json\n",
        "import re\n",
        "flame = 'jawiki-country.json.gz'\n",
        "file_name =[]\n",
        "\n",
        "def UK():\n",
        "  with gzip.open(flame, 'rt') as data_file:\n",
        "    for line in data_file:\n",
        "      data_json = json.loads(line)\n",
        "      if data_json['title'] == 'イギリス':\n",
        "       return data_json['text']\n",
        "\n",
        "file_rec = ['svg', 'PNG', 'png', 'jpg', 'JPG', 'jpeg', 'gif']\n",
        "for rec in file_rec:\n",
        "  b = re.compile('(.*' + rec +')').findall(UK())\n",
        "  t.append(b)\n",
        "\n",
        "for tmp in t:\n",
        "  for result in tmp:\n",
        "    name=re.compile('(?<=:).*').findall(result)\n",
        "    if name==[]:\n",
        "      name=re.compile('(?<==).*').findall(result)\n",
        "    file_name.append(name[0])\n",
        "\n",
        "print(file_name)\n"
      ],
      "execution_count": 0,
      "outputs": []
    },
    {
      "cell_type": "markdown",
      "metadata": {
        "id": "2UUe0KHPPvp5",
        "colab_type": "text"
      },
      "source": [
        "urlで参照されてるpdfもメディアファイル扱いだと思うけどurlで参照されてるのでこのままではちょっと厳しい。\n",
        "別の関数用意してPDF専用で抽出したほうがいいかも。\n",
        "url参照とサーバにあるpdfファイルが共存していた場合の抽出方法も考えないといけないかも\n",
        "辛いかも\n",
        "\n",
        "(?:File|ファイル)では=で参照されてるメディアファイルはとってこれないのでこうしてる "
      ]
    }
  ]
}